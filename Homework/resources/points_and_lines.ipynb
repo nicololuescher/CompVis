{
 "cells": [
  {
   "cell_type": "markdown",
   "metadata": {},
   "source": [
    "# Points and lines in 2D\n",
    "\n",
    "This notebook shows a simple way to perform operations with points and lines in 2D.\n",
    "\n",
    "## Homogenenous coordinates for 2D points\n",
    "\n",
    "We will use a convention known as \"2D homogeneous coordinates\" in which each point is represented by three numbers.\n",
    "\n",
    "To represent a cartesian point in homogeneous coordinates, you just add a 1 as the third coordinate: \n",
    "\n",
    "- $(x,y)$ in cartesian coordinates becomes $(x,y,1)$ in homogeneous coordinates.\n",
    "\n",
    "To represent an homogeneous point in cartesian coordinates, you divide by its third coordinate:\n",
    "- $(x,y,w)$ in homogeneous coordinates becomes $(x/w, y/w)$ in cartesian coordinates."
   ]
  },
  {
   "cell_type": "code",
   "execution_count": 4,
   "metadata": {},
   "outputs": [],
   "source": [
    "import numpy as np\n",
    "import matplotlib.pyplot as plt\n",
    "\n",
    "# Define four points in 2D homogeneous coordinates.\n",
    "# First two coordinates are cartesian 2D, third coordinate is 1.\n",
    "\n",
    "a = np.array([2,1,1])\n",
    "b = np.array([5,3,1])\n",
    "c = np.array([1,4,1])\n",
    "d = np.array([3,4,1])"
   ]
  },
  {
   "cell_type": "code",
   "execution_count": 18,
   "metadata": {},
   "outputs": [
    {
     "data": {
      "image/png": "[encoded data removed]",
      "text/plain": [
       "<Figure size 432x288 with 1 Axes>"
      ]
     },
     "metadata": {
      "needs_background": "light"
     },
     "output_type": "display_data"
    }
   ],
   "source": [
    "def plotpoint(x, y, name, ax):\n",
    "    \"\"\" plots a point and gives it a name\"\"\"\n",
    "    ax.plot(x, y, \"k.\")\n",
    "    ax.text(x, y, \" \"+name)\n",
    "\n",
    "fig,ax = plt.subplots()\n",
    "plotpoint(x=a[0]/a[2], y=a[1]/a[2], name=\"a\", ax=ax)\n",
    "plotpoint(x=b[0]/b[2], y=b[1]/b[2], name=\"b\", ax=ax)\n",
    "plotpoint(x=c[0]/c[2], y=c[1]/c[2], name=\"c\", ax=ax)\n",
    "plotpoint(x=d[0]/d[2], y=d[1]/d[2], name=\"d\", ax=ax)"
   ]
  },
  {
   "cell_type": "markdown",
   "metadata": {},
   "source": [
    "## Finding a line through two points\n",
    "\n",
    "The advantage of using this convention -- which might seem strange and useless -- is that typical operations are very easy to perform, using the standard [cross product](https://en.wikipedia.org/wiki/Cross_product) operation (`np.cross` in numpy)"
   ]
  },
  {
   "cell_type": "code",
   "execution_count": 19,
   "metadata": {},
   "outputs": [
    {
     "name": "stdout",
     "output_type": "stream",
     "text": [
      "[-2  3  1] represents the line through a and b\n",
      "[ 0  2 -8] represents the line through c and d\n"
     ]
    }
   ],
   "source": [
    "# Line through a and b\n",
    "lab = np.cross(a,b)\n",
    "\n",
    "# Line through c and d\n",
    "lcd = np.cross(c,d)\n",
    "\n",
    "print(lab, \"represents the line through a and b\")\n",
    "print(lcd, \"represents the line through c and d\")"
   ]
  },
  {
   "cell_type": "markdown",
   "metadata": {},
   "source": [
    "Just like a point is represented by a vector with three elements, also a line is represented in the same way!\n",
    "\n",
    "## Finding the intersection of two lines\n",
    "\n",
    "If you have two lines in homogeneous coordinates, you find the point at their intersection by doing the cross product between them.\n",
    "\n",
    "This results in a vector of three elements that represents a point in homogeneous coordinates."
   ]
  },
  {
   "cell_type": "code",
   "execution_count": 20,
   "metadata": {},
   "outputs": [
    {
     "name": "stdout",
     "output_type": "stream",
     "text": [
      "Homogeneous coordinates for point e:  [-26 -16  -4]\n",
      "Cartesian coordinates for point e:  6.5 4.0\n"
     ]
    }
   ],
   "source": [
    "# Intersection between the two lines\n",
    "e = np.cross(lab, lcd)\n",
    "\n",
    "print(\"Homogeneous coordinates for point e: \",e)\n",
    "print(\"Cartesian coordinates for point e: \", e[0]/e[2], e[1]/e[2])"
   ]
  },
  {
   "cell_type": "code",
   "execution_count": 21,
   "metadata": {},
   "outputs": [
    {
     "data": {
      "image/png": "[encoded data removed]",
      "text/plain": [
       "<Figure size 432x288 with 1 Axes>"
      ]
     },
     "execution_count": 21,
     "metadata": {},
     "output_type": "execute_result"
    }
   ],
   "source": [
    "plotpoint(x=e[0]/e[2], y=e[1]/e[2], name=\"e\", ax=ax)\n",
    "fig"
   ]
  },
  {
   "cell_type": "markdown",
   "metadata": {},
   "source": [
    "### Easy exercise\n",
    "find and draw the intersection of the diagonals of the quadrilateral a,b,c,d"
   ]
  }
 ],
 "metadata": {
  "kernelspec": {
   "display_name": "Python 3",
   "language": "python",
   "name": "python3"
  },
  "language_info": {
   "codemirror_mode": {
    "name": "ipython",
    "version": 3
   },
   "file_extension": ".py",
   "mimetype": "text/x-python",
   "name": "python",
   "nbconvert_exporter": "python",
   "pygments_lexer": "ipython3",
   "version": "3.7.6"
  }
 },
 "nbformat": 4,
 "nbformat_minor": 2
}
